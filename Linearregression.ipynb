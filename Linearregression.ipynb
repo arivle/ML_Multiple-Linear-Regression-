{
  "nbformat": 4,
  "nbformat_minor": 0,
  "metadata": {
    "colab": {
      "name": "Linearregression.ipynb",
      "version": "0.3.2",
      "provenance": [],
      "collapsed_sections": [],
      "include_colab_link": true
    },
    "kernelspec": {
      "name": "python3",
      "display_name": "Python 3"
    }
  },
  "cells": [
    {
      "cell_type": "markdown",
      "metadata": {
        "id": "view-in-github",
        "colab_type": "text"
      },
      "source": [
        "<a href=\"https://colab.research.google.com/github/arivle/ML_Multiple-Linear-Regression-/blob/master/Linearregression.ipynb\" target=\"_parent\"><img src=\"https://colab.research.google.com/assets/colab-badge.svg\" alt=\"Open In Colab\"/></a>"
      ]
    },
    {
      "cell_type": "code",
      "metadata": {
        "id": "esMLYHbhdKDk",
        "colab_type": "code",
        "outputId": "abbffa84-1aa2-4053-9267-fa4fc0de9390",
        "colab": {
          "base_uri": "https://localhost:8080/",
          "height": 335
        }
      },
      "source": [
        "import numpy as np\n",
        "import matplotlib.pyplot as plt\n",
        "from matplotlib import style\n",
        "style.use(\"ggplot\")\n",
        "\n",
        "#containing dummy data \n",
        "keuntungan = [7000000, 10000000, 7500000, 5000000, 17000000, 7000000, 14000000]\n",
        "laba = [3000000, 4000000, 2000000, 1200000, 5000000, 2000000, 5000000]\n",
        "\n",
        "#function for generate linear function\n",
        "def linearRegresion(data):\n",
        "  '''\n",
        "  indeks[0] -> response variable -> x\n",
        "  indeks[1] -> predictor variable -> y\n",
        "  '''\n",
        "  x2=[]\n",
        "  y2=[]\n",
        "  xy=[]\n",
        "  n = len(data[0])\n",
        "  for x in data[0]:\n",
        "    x2.append(x**2)\n",
        "  \n",
        "  for y in data[0]:\n",
        "    y2.append(y**2)\n",
        "  i=0;\n",
        "  \n",
        "  while(i<n):\n",
        "    dump = data[0][i]*data[1][i]\n",
        "    xy.append(dump)\n",
        "    i+=1\n",
        "    \n",
        "  jmlhx = sum(data[0])\n",
        "  jmlhy = sum(data[1])\n",
        "  jmlhx2 = sum(x2)\n",
        "  jmlhy2 = sum(y2)\n",
        "  jmlhxy = sum(xy)\n",
        "  a = ((jmlhy*jmlhx2)-(jmlhx*jmlhxy))/(n*jmlhx2-(jmlhx**2))\n",
        "  b = ((n*jmlhxy)-(jmlhx*jmlhy))/(n*jmlhx2-(jmlhx**2))\n",
        "  return(a,b)\n",
        "\n",
        "#visualize\n",
        "def gambarGrafik(dataProses):\n",
        "  a,b = linearRegresion(dataProses)\n",
        "  print(\"Nilai a adalah %.4f\"%(a))\n",
        "  print(\"Nilai b adalah %.4f\"%(b))\n",
        "\n",
        "  def f1(keanggotaan,a,b):\n",
        "    hit = []\n",
        "    for x in keanggotaan:\n",
        "      y = b*x+a\n",
        "      hit.append(y)\n",
        "    return(hit)\n",
        "  plt.scatter(dataProses[0],dataProses[1],label='data aktual',s=10)\n",
        "  plt.plot(dataProses[0],f1(dataProses[0],a,b),c='k',label='hasilregresi',linewidth=0.5)\n",
        "  plt.title(\"Hasil regresi Linear Sederhana\")\n",
        "  plt.ylabel(\"laba\")\n",
        "  plt.xlabel(\"keuntungan\")\n",
        "  plt.legend()\n",
        "  fig = plt.figure(1)\n",
        "  plt.show()\n",
        "  \n",
        "#draw the graphic for advantage in bussiness\n",
        "gambarGrafik([keuntungan,laba])\n"
      ],
      "execution_count": 0,
      "outputs": [
        {
          "output_type": "stream",
          "text": [
            "Nilai a adalah 30056.7108\n",
            "Nilai b adalah 0.3258\n"
          ],
          "name": "stdout"
        },
        {
          "output_type": "display_data",
          "data": {
            "image/png": "[encoded data removed]",
            "text/plain": [
              "<Figure size 432x288 with 1 Axes>"
            ]
          },
          "metadata": {
            "tags": []
          }
        }
      ]
    },
    {
      "cell_type": "code",
      "metadata": {
        "id": "OjpTwyRMzGw0",
        "colab_type": "code",
        "colab": {
          "base_uri": "https://localhost:8080/",
          "height": 34
        },
        "outputId": "ee691531-55e3-4d02-e679-4e37bbe209bc"
      },
      "source": [
        "pip install --upgrade --no-deps statsmodels"
      ],
      "execution_count": 24,
      "outputs": [
        {
          "output_type": "stream",
          "text": [
            "Requirement already up-to-date: statsmodels in /usr/local/lib/python3.6/dist-packages (0.10.1)\n"
          ],
          "name": "stdout"
        }
      ]
    },
    {
      "cell_type": "code",
      "metadata": {
        "id": "Z6reDlN1mh2l",
        "colab_type": "code",
        "outputId": "637eafde-c881-47a4-bae3-103e1cedb7fd",
        "colab": {
          "base_uri": "https://localhost:8080/",
          "height": 563
        }
      },
      "source": [
        "# Mengimpor library yang diperlukan\n",
        "import numpy as np\n",
        "import matplotlib.pyplot as plt\n",
        "import pandas as pd\n",
        "import statsmodels.api as sma\n",
        "import statsmodels.formula.api as sm\n",
        "import matplotlib as mpl\n",
        "\n",
        "data = {'keuntungan' : [7000000, 10000000, 7500000, 5000000, 17000000, 7000000, 14000000],\n",
        "           'jual' : [3000000, 4000000, 2000000, 1200000, 5000000, 2000000, 5000000],\n",
        "           'bahanbaku':[100000, 200000, 300000, 400000, 500000, 600000, 700000]}\n",
        "dataset = pd.DataFrame(data)\n",
        "X = dataset.iloc[:, :].values\n",
        "\n",
        "print(X,\"\\n\") #untuk menampilkan variabel x, yaitu keuntungan dan bahan baku\n",
        "\n",
        "y = dataset.iloc[:, 0].values #untuk menampilkan variabel y : keuntungan\n",
        "print(y)\n",
        "\n",
        "\"\"\"\n",
        "from sklearn.preprocessing import LabelEncoder, OneHotEncoder\n",
        "labelencoder_X = LabelEncoder()\n",
        "X[:, 2] = labelencoder_X.fit_transform(X[:, 2])\n",
        "onehotencoder = OneHotEncoder(categorical_features = [2])\n",
        "X = onehotencoder.fit_transform(X).toarray()\n",
        "\n",
        "\"\"\"\n",
        "# Menghindari jebakan dummy variabel\n",
        "#X = X[:, 1:]\n",
        " \n",
        "# Membagi data menjadi the Training set and Test set\n",
        "from sklearn.model_selection import train_test_split\n",
        "X_train, X_test, y_train, y_test = train_test_split(X, y, test_size = 0.2, random_state = 0)\n",
        " \n",
        "# Membuat model Multiple Linear Regression dari Training set\n",
        "from sklearn.linear_model import LinearRegression\n",
        "regressor = LinearRegression()\n",
        "regressor.fit(X_train, y_train)\n",
        "\n",
        "# Memprediksi hasil Test set\n",
        "y_pred = regressor.predict(X_test)\n",
        " \n",
        "# Memilih model multiple regresi yang paling baik dengan metode backward propagation\n",
        "\n",
        "X = sma.add_constant(X)\n",
        "X_opt = X[:, [0, 1, 2]]\n",
        "regressor_OLS = sma.OLS(endog = y, exog = X_opt).fit()\n",
        "regressor_OLS.summary()\n",
        "X_opt = X[:, [0, 1]]\n",
        "regressor_OLS = sma.OLS(endog = y, exog = X_opt).fit()\n",
        "regressor_OLS.summary()\n",
        "X_opt = X[:, [0, 2]]\n",
        "regressor_OLS = sma.OLS(endog = y, exog = X_opt).fit()\n",
        "regressor_OLS.summary()\n",
        "X_opt = X[:, [1,2]]\n",
        "regressor_OLS = sma.OLS(endog = y, exog = X_opt).fit()\n",
        "regressor_OLS.summary()\n",
        "\n",
        "mpl.rcParams['legend.fontsize'] = 12\n",
        "  \n",
        "fig = plt.figure() \n",
        "ax = fig.gca(projection ='3d') \n",
        "  \n",
        "ax.scatter(X[:,0], X[:,1], X[:,2], label ='y', s = 5) \n",
        "ax.legend() \n",
        "ax.view_init(45, 0) \n",
        "  \n",
        "plt.show() "
      ],
      "execution_count": 30,
      "outputs": [
        {
          "output_type": "stream",
          "text": [
            "[[ 7000000  3000000   100000]\n",
            " [10000000  4000000   200000]\n",
            " [ 7500000  2000000   300000]\n",
            " [ 5000000  1200000   400000]\n",
            " [17000000  5000000   500000]\n",
            " [ 7000000  2000000   600000]\n",
            " [14000000  5000000   700000]] \n",
            "\n",
            "[ 7000000 10000000  7500000  5000000 17000000  7000000 14000000]\n"
          ],
          "name": "stdout"
        },
        {
          "output_type": "stream",
          "text": [
            "/usr/local/lib/python3.6/dist-packages/statsmodels/stats/stattools.py:71: ValueWarning: omni_normtest is not valid with less than 8 observations; 7 samples were given.\n",
            "  \"samples were given.\" % int(n), ValueWarning)\n",
            "/usr/local/lib/python3.6/dist-packages/statsmodels/stats/stattools.py:71: ValueWarning: omni_normtest is not valid with less than 8 observations; 7 samples were given.\n",
            "  \"samples were given.\" % int(n), ValueWarning)\n",
            "/usr/local/lib/python3.6/dist-packages/statsmodels/stats/stattools.py:71: ValueWarning: omni_normtest is not valid with less than 8 observations; 7 samples were given.\n",
            "  \"samples were given.\" % int(n), ValueWarning)\n",
            "/usr/local/lib/python3.6/dist-packages/statsmodels/stats/stattools.py:71: ValueWarning: omni_normtest is not valid with less than 8 observations; 7 samples were given.\n",
            "  \"samples were given.\" % int(n), ValueWarning)\n"
          ],
          "name": "stderr"
        },
        {
          "output_type": "display_data",
          "data": {
            "image/png": "[encoded data removed]",
            "text/plain": [
              "<Figure size 432x288 with 1 Axes>"
            ]
          },
          "metadata": {
            "tags": []
          }
        }
      ]
    }
  ]
}